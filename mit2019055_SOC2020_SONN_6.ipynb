{
  "nbformat": 4,
  "nbformat_minor": 0,
  "metadata": {
    "colab": {
      "name": "mit2019055_SOC2020_SONN_6.ipynb",
      "provenance": [],
      "collapsed_sections": []
    },
    "kernelspec": {
      "name": "python3",
      "display_name": "Python 3"
    }
  },
  "cells": [
    {
      "cell_type": "code",
      "metadata": {
        "id": "j8PI0zIIJ-xo",
        "colab_type": "code",
        "colab": {}
      },
      "source": [
        "import numpy as np\n",
        "import random\n",
        "import matplotlib.pyplot as plt"
      ],
      "execution_count": 0,
      "outputs": []
    },
    {
      "cell_type": "code",
      "metadata": {
        "id": "VKNeaV7aNMRG",
        "colab_type": "code",
        "colab": {}
      },
      "source": [
        "np.random.seed(1)\n",
        "w = np.random.uniform(-1, 1, size = (10, 10, 2))\n",
        "x = np.random.uniform(-1, 1, size = (1500, 2))\n",
        "# print(x)"
      ],
      "execution_count": 0,
      "outputs": []
    },
    {
      "cell_type": "markdown",
      "metadata": {
        "id": "lWDShhH8V6YT",
        "colab_type": "text"
      },
      "source": [
        "Topological distribution of neuron weight vectors before traing"
      ]
    },
    {
      "cell_type": "code",
      "metadata": {
        "id": "-58BVfo7H5hG",
        "colab_type": "code",
        "colab": {
          "base_uri": "https://localhost:8080/",
          "height": 265
        },
        "outputId": "47892517-48b3-4522-fef9-c3f64194c10e"
      },
      "source": [
        "plt.scatter(w[:,:,0], w[:,:,1]) \n",
        "plt.show()"
      ],
      "execution_count": 163,
      "outputs": [
        {
          "output_type": "display_data",
          "data": {
            "image/png": "[encoded data removed]",
            "text/plain": [
              "<Figure size 432x288 with 1 Axes>"
            ]
          },
          "metadata": {
            "tags": [],
            "needs_background": "light"
          }
        }
      ]
    },
    {
      "cell_type": "markdown",
      "metadata": {
        "id": "OzSibVoXhdIu",
        "colab_type": "text"
      },
      "source": [
        "Function to return the indices of winner which would be at least distance from the example"
      ]
    },
    {
      "cell_type": "code",
      "metadata": {
        "id": "kaYFAqEQemF8",
        "colab_type": "code",
        "colab": {}
      },
      "source": [
        "def index(x1, w1):\n",
        "  I = 0\n",
        "  J = 0\n",
        "  min_dis = float('inf')\n",
        "  for i in range(w1.shape[0]):\n",
        "    for j in range(w1.shape[1]):\n",
        "      cur_dis = np.linalg.norm(w1[i,j,:] - x1)\n",
        "      if min_dis > cur_dis:\n",
        "        min_dis = cur_dis\n",
        "        I,J = i,j\n",
        "        # print(cur_dis,x1, w1[i,j,:])\n",
        "\n",
        "  return I,J"
      ],
      "execution_count": 0,
      "outputs": []
    },
    {
      "cell_type": "markdown",
      "metadata": {
        "id": "OaQRW1YhcIN2",
        "colab_type": "text"
      },
      "source": [
        "Training using two heuristic sigma and alpha , where alpha is standard deviation parameter of the Gaussian distribution used for calculating neighbourhood for calculating exitations"
      ]
    },
    {
      "cell_type": "code",
      "metadata": {
        "id": "MUgLkPhMa4gj",
        "colab_type": "code",
        "colab": {}
      },
      "source": [
        "alpha = 0.1\n",
        "tow_1 = 1\n",
        "tow_2 = 1\n",
        "epoches = 100\n",
        "#threshold is calulated using uniform distribution assumption\n",
        "th_dis = (1-(-1))/w.shape[0]\n",
        "sigma = 0.8\n",
        "for n in range(epoches):\n",
        "  alpha_n = alpha * np.exp(-n/tow_2)\n",
        "  sigma_n = sigma * np.exp(-n/tow_1)\n",
        "  dis = 0.0\n",
        "  for xi in x:\n",
        "    # print(xi)\n",
        "    win_i, win_j = index(xi, w)\n",
        "    #dis is the parameter used for deciding convergence of weights vectors of neurons\n",
        "    dis = max(dis, np.linalg.norm(w[win_i,win_j,:] - xi))\n",
        "    # print(dis)\n",
        "    # updations are being made according to the neighbourhood\n",
        "    for i in range(w.shape[0]):\n",
        "      for j in range(w.shape[1]):\n",
        "        w[i, j, :] += alpha_n * np.exp(-(np.linalg.norm(w[win_i,win_j,:] - w[i,j,:])**2)/(2 * sigma_n**2))*(xi - w[win_i,win_j,:])\n",
        "\n",
        "  if dis < th_dis:\n",
        "    break\n",
        "  # print(n)\n",
        "# print(w)\n",
        "  "
      ],
      "execution_count": 0,
      "outputs": []
    },
    {
      "cell_type": "markdown",
      "metadata": {
        "id": "wXBfT9bfelKV",
        "colab_type": "text"
      },
      "source": [
        "Ploting the weights after training, the neurons should topologically represent the data distribution"
      ]
    },
    {
      "cell_type": "code",
      "metadata": {
        "id": "H1iOE1Oo_p4C",
        "colab_type": "code",
        "colab": {
          "base_uri": "https://localhost:8080/",
          "height": 265
        },
        "outputId": "a0315e4f-667e-4e34-b476-dbb67c4c6c27"
      },
      "source": [
        "plt.scatter(w[:,:,0], w[:,:,1]) \n",
        "plt.show()"
      ],
      "execution_count": 181,
      "outputs": [
        {
          "output_type": "display_data",
          "data": {
            "image/png": "[encoded data removed]",
            "text/plain": [
              "<Figure size 432x288 with 1 Axes>"
            ]
          },
          "metadata": {
            "tags": [],
            "needs_background": "light"
          }
        }
      ]
    },
    {
      "cell_type": "markdown",
      "metadata": {
        "id": "g0lNs48ie1pa",
        "colab_type": "text"
      },
      "source": [
        "Testing the given data"
      ]
    },
    {
      "cell_type": "code",
      "metadata": {
        "id": "E-gA5nw7gug8",
        "colab_type": "code",
        "colab": {
          "base_uri": "https://localhost:8080/",
          "height": 85
        },
        "outputId": "582ff227-b9df-40fe-def2-7023949eaeff"
      },
      "source": [
        "test_data = np.array([[0.1, 0.8],[0.5, -0.2],[-0.8, -0.9],[-0.06, 0.9]])\n",
        "out_data = []\n",
        "for data in test_data:\n",
        "  out_data.append(index(data, w))\n",
        "\n",
        "for i in range(len(test_data)):\n",
        "  print(test_data[i], w[out_data[i][0], out_data[i][1], :], np.linalg.norm(test_data[i] - w[out_data[i][0], out_data[i][1], :]))"
      ],
      "execution_count": 182,
      "outputs": [
        {
          "output_type": "stream",
          "text": [
            "[0.1 0.8] [0.12208265 0.89205037] 0.09466210575555233\n",
            "[ 0.5 -0.2] [ 0.4877643  -0.11690557] 0.0839904552408877\n",
            "[-0.8 -0.9] [-0.84017778 -0.91250782] 0.04207967786836527\n",
            "[-0.06  0.9 ] [-0.08834542  0.89367109] 0.029043378231334262\n"
          ],
          "name": "stdout"
        }
      ]
    },
    {
      "cell_type": "code",
      "metadata": {
        "id": "ersFvueVpRiI",
        "colab_type": "code",
        "colab": {}
      },
      "source": [
        ""
      ],
      "execution_count": 0,
      "outputs": []
    }
  ]
}